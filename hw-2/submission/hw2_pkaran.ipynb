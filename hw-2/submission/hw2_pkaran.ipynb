{
  "nbformat": 4,
  "nbformat_minor": 0,
  "metadata": {
    "anaconda-cloud": {},
    "kernelspec": {
      "display_name": "Python 3",
      "language": "python",
      "name": "python3"
    },
    "language_info": {
      "codemirror_mode": {
        "name": "ipython",
        "version": 3
      },
      "file_extension": ".py",
      "mimetype": "text/x-python",
      "name": "python",
      "nbconvert_exporter": "python",
      "pygments_lexer": "ipython3",
      "version": "3.7.9"
    },
    "colab": {
      "name": "word_vectors.ipynb",
      "provenance": [],
      "collapsed_sections": []
    }
  },
  "cells": [
    {
      "cell_type": "markdown",
      "metadata": {
        "id": "4wwniVGOEa4o"
      },
      "source": [
        "# CS410/510 HW2: Exploring Word Vectors (20 points)\n",
        "### <font color='blue'> Due 11:59pm, Sun Feb 06, 2021. </font>\n",
        "\n",
        "__Name : Karan Patel__  \n",
        "__PSU ID: 965051876__\n",
        "\n",
        "Please read the README.txt in the same directory as this notebook for important setup information, especially if you are running this Jupyter notebook on your local machine. \n",
        "\n",
        "\n",
        "There's also an excellent resource on Python and Numpy [tutorial](https://cs231n.github.io/python-numpy-tutorial/) that might be helpful.\n",
        "\n",
        "\n",
        "Please make sure to save the notebook as you go along. Submission Instructions are located at the bottom of the notebook.\n",
        "\n",
        "\n",
        "Acknowledgements: This homework has been modeled after Stanford's CS224n."
      ]
    },
    {
      "cell_type": "code",
      "metadata": {
        "id": "qyfbNELlEa4u"
      },
      "source": [
        "# All Import Statements Defined Here\n",
        "# Note: Do not add to this list.\n",
        "# ----------------\n",
        "\n",
        "import sys\n",
        "assert sys.version_info[0]==3\n",
        "assert sys.version_info[1] >= 5\n",
        "\n",
        "from gensim.models import KeyedVectors\n",
        "from gensim.test.utils import datapath\n",
        "import pprint\n",
        "import matplotlib.pyplot as plt\n",
        "plt.rcParams['figure.figsize'] = [10, 5]\n",
        "import nltk\n",
        "import numpy as np\n",
        "import random\n",
        "import scipy as sp\n",
        "from sklearn.decomposition import TruncatedSVD\n",
        "from sklearn.decomposition import PCA\n",
        "\n",
        "np.random.seed(0)\n",
        "random.seed(0)\n",
        "# ----------------"
      ],
      "execution_count": 2,
      "outputs": []
    },
    {
      "cell_type": "markdown",
      "metadata": {
        "id": "K9MOJUOAEa4y"
      },
      "source": [
        "## Word Vectors\n",
        "\n",
        "Word Vectors are often used as a fundamental component for many downstream NLP tasks, e.g., text classification, question answering, text generation, translation, etc., so it is important to build some intuitions as to their strengths and weaknesses.\n",
        "\n",
        "The terms \"word vectors\" and \"word embeddings\" are often used interchangeably. The term \"embedding\" refers to the fact that we are encoding aspects of a word's meaning in a lower dimensional space. As [Wikipedia](https://en.wikipedia.org/wiki/Word_embedding) states, \"*conceptually it involves a mathematical embedding from a space with one dimension per word to a continuous vector space with a much lower dimension*\".\n",
        "\n",
        "\n",
        "Most word vector models start from the following idea: *You shall know a word by the company it keeps ([Firth, J. R. 1957:11](https://en.wikipedia.org/wiki/John_Rupert_Firth))*\n",
        "\n"
      ]
    },
    {
      "cell_type": "markdown",
      "metadata": {
        "id": "fmGIml7hEa45"
      },
      "source": [
        "## Loading word vectors\n",
        "\n",
        "Here, we shall explore the embeddings produced by word2vec and GloVe. \n",
        "\n",
        "First, we will explore word2vec. Later, you will replace word2vec with GloVe vectors. More information on pretrained models is here: https://radimrehurek.com/gensim/models/word2vec.html\n",
        "\n",
        "Run the following cells to load the word2vec vectors into memory. **Note**: If this is your first time to run these cells, i.e. download the embedding model, it will take a couple minutes to run. If you've run these cells before, rerunning them will load the model without redownloading it, which will take about 1 to 2 minutes."
      ]
    },
    {
      "cell_type": "code",
      "metadata": {
        "id": "DLja5GKrEa46"
      },
      "source": [
        "def load_embedding_model():\n",
        "    \"\"\" Load word2vec vectors\n",
        "        Return:\n",
        "            wv_from_bin: All embeddings, each lengh 300\n",
        "    \"\"\"\n",
        "    import gensim.downloader as api\n",
        "    wv_from_bin = api.load(\"word2vec-google-news-300\") #this downloads the 300-dimensional word2vec vectors trained on Google News corpus, more here: https://radimrehurek.com/gensim/models/word2vec.html\n",
        "    print(\"Loaded vocab size %i\" % len(wv_from_bin.vocab.keys()))\n",
        "    return wv_from_bin"
      ],
      "execution_count": 12,
      "outputs": []
    },
    {
      "cell_type": "code",
      "metadata": {
        "id": "lQwGrMFLEa46",
        "colab": {
          "base_uri": "https://localhost:8080/",
          "height": 0
        },
        "outputId": "fb3f287f-e8d5-4742-f525-5bc94509b624"
      },
      "source": [
        "# -----------------------------------\n",
        "# Run Cell to Load Word Vectors\n",
        "# Note: This will take a couple of minutes\n",
        "# -----------------------------------\n",
        "wv_from_bin = load_embedding_model()"
      ],
      "execution_count": 13,
      "outputs": [
        {
          "output_type": "stream",
          "text": [
            "Loaded vocab size 3000000\n"
          ],
          "name": "stdout"
        }
      ]
    },
    {
      "cell_type": "markdown",
      "metadata": {
        "id": "3TrnS_EYEa46"
      },
      "source": [
        "#### Note: If you are receiving a \"reset by peer\" error, rerun the cell to restart the download. "
      ]
    },
    {
      "cell_type": "markdown",
      "metadata": {
        "id": "wyBycTNdEa47"
      },
      "source": [
        "### Reducing dimensionality of Word Embeddings\n",
        "Let's visualize the word embeddings. In order to avoid running out of memory, we will work with a sample of 10000 word vectors instead. Run the following cells to:\n",
        "\n",
        "1. Put 10000 word vectors into a matrix M\n",
        "2. Run `reduce_to_k_dim` (see Q1) to reduce the vectors from 300-dimensional to 2-dimensional."
      ]
    },
    {
      "cell_type": "code",
      "metadata": {
        "id": "ggS8BZZkEa47"
      },
      "source": [
        "def get_matrix_of_vectors(wv_from_bin, required_words=['portland', 'pacific', 'forest', 'ocean', 'city', 'food', 'green', 'weird', 'cool', 'oregon']):\n",
        "    \"\"\" Put the word2vec vectors into a matrix M.\n",
        "        Param:\n",
        "            wv_from_bin: KeyedVectors object; the 3000000 word2vec vectors loaded from file\n",
        "        Return:\n",
        "            M: numpy matrix shape (num words, 300) containing the vectors\n",
        "            word2ind: dictionary mapping each word to its row number in M\n",
        "    \"\"\"\n",
        "    import random\n",
        "    words = list(wv_from_bin.vocab.keys())\n",
        "    print(\"Shuffling words ...\")\n",
        "    random.seed(224)\n",
        "    random.shuffle(words)\n",
        "    words = words[:10000]\n",
        "    print(\"Putting %i words into word2ind and matrix M...\" % len(words))\n",
        "    word2ind = {}\n",
        "    M = []\n",
        "    curInd = 0\n",
        "    for w in words:\n",
        "        try:\n",
        "            M.append(wv_from_bin.word_vec(w))\n",
        "            word2ind[w] = curInd\n",
        "            curInd += 1\n",
        "        except KeyError:\n",
        "            continue\n",
        "    for w in required_words:\n",
        "        if w in words:\n",
        "            continue\n",
        "        try:\n",
        "            M.append(wv_from_bin.word_vec(w))\n",
        "            word2ind[w] = curInd\n",
        "            curInd += 1\n",
        "        except KeyError:\n",
        "            continue\n",
        "    M = np.stack(M)\n",
        "    print(\"Done.\")\n",
        "    return M, word2ind"
      ],
      "execution_count": 5,
      "outputs": []
    },
    {
      "cell_type": "markdown",
      "metadata": {
        "id": "nCRQtJrFEa42"
      },
      "source": [
        "### **Question 1**: Implement `reduce_to_k_dim` [code] (1 point)\n",
        "\n",
        "Construct a method that performs dimensionality reduction on the matrix to produce k-dimensional embeddings. Use SVD to take the top k components and produce a new matrix of k-dimensional embeddings. \n",
        "\n",
        "**Note:** All of numpy, scipy, and scikit-learn (`sklearn`) provide *some* implementation of SVD, but only scipy and sklearn provide an implementation of Truncated SVD, and only sklearn provides an efficient randomized algorithm for calculating large-scale Truncated SVD. So please use [sklearn.decomposition.TruncatedSVD](https://scikit-learn.org/stable/modules/generated/sklearn.decomposition.TruncatedSVD.html)."
      ]
    },
    {
      "cell_type": "code",
      "metadata": {
        "id": "1UCgD1tAEa43"
      },
      "source": [
        "def reduce_to_k_dim(M, k=2):\n",
        "    \"\"\" Reduce a co-occurence count matrix of dimensionality (num_corpus_words, num_corpus_words)\n",
        "        to a matrix of dimensionality (num_corpus_words, k) using the following SVD function from Scikit-Learn:\n",
        "            - http://scikit-learn.org/stable/modules/generated/sklearn.decomposition.TruncatedSVD.html\n",
        "    \n",
        "        Params:\n",
        "            M (numpy matrix of shape (number of unique words in the corpus , number of unique words in the corpus)): co-occurence matrix of word counts\n",
        "            k (int): embedding size of each word after dimension reduction\n",
        "        Return:\n",
        "            M_reduced (numpy matrix of shape (number of corpus words, k)): matrix of k-dimensioal word embeddings.\n",
        "                    In terms of the SVD from math class, this actually returns U * S\n",
        "    \"\"\"    \n",
        "    n_iters = 10     # Use this parameter in your call to `TruncatedSVD`\n",
        "    M_reduced = None\n",
        "    print(\"Running Truncated SVD over %i words...\" % (M.shape[0]))\n",
        "    \n",
        "    # ------------------\n",
        "    # Write your implementation here.\n",
        "    svd = TruncatedSVD(n_components=k, n_iter=n_iters)\n",
        "    M_reduced = svd.fit_transform(M)\n",
        "\n",
        "    # ------------------\n",
        "\n",
        "    print(\"Done.\")\n",
        "    return M_reduced"
      ],
      "execution_count": 6,
      "outputs": []
    },
    {
      "cell_type": "code",
      "metadata": {
        "id": "34WXjr0fEa47",
        "colab": {
          "base_uri": "https://localhost:8080/",
          "height": 0
        },
        "outputId": "ea549ac2-94e7-429d-ba89-32546c32538a"
      },
      "source": [
        "# -----------------------------------------------------------------\n",
        "# Run Cell to Reduce 300-Dimensional Word Embeddings to k Dimensions\n",
        "# Note: This should be quick to run\n",
        "# -----------------------------------------------------------------\n",
        "M, word2ind = get_matrix_of_vectors(wv_from_bin)\n",
        "M_reduced = reduce_to_k_dim(M, k=2)\n",
        "\n"
      ],
      "execution_count": 7,
      "outputs": [
        {
          "output_type": "stream",
          "text": [
            "Shuffling words ...\n",
            "Putting 10000 words into word2ind and matrix M...\n",
            "Done.\n",
            "Running Truncated SVD over 10008 words...\n",
            "Done.\n"
          ],
          "name": "stdout"
        }
      ]
    },
    {
      "cell_type": "markdown",
      "metadata": {
        "id": "Oi0NRtphEa4_"
      },
      "source": [
        "**Note: If you are receiving out of memory issues on your local machine, try closing other applications to free more memory on your device. You may want to try restarting your machine so that you can free up extra memory. Then immediately run the jupyter notebook and see if you can load the word vectors properly. Or, try using Colab."
      ]
    },
    {
      "cell_type": "markdown",
      "metadata": {
        "id": "f9cQzntDEa43"
      },
      "source": [
        "### **Question 2.1**: Implement `plot_embeddings` [code] (2 points)\n",
        "\n",
        "Here you will write a function to plot a set of 2D vectors in 2D space. For graphs, we will use Matplotlib (`plt`).\n",
        "\n",
        "For this example, you may find it useful to adapt [this code](http://web.archive.org/web/20190924160434/https://www.pythonmembers.club/2018/05/08/matplotlib-scatter-plot-annotate-set-text-at-label-each-point/). In the future, a good way to make a plot is to look at [the Matplotlib gallery](https://matplotlib.org/gallery/index.html), find a plot that looks somewhat like what you want, and adapt the code they give."
      ]
    },
    {
      "cell_type": "code",
      "metadata": {
        "id": "-xoUkY-mEa44"
      },
      "source": [
        "def plot_embeddings(M_reduced, word2ind, words):\n",
        "    \"\"\" Plot in a scatterplot the embeddings of the words specified in the list \"words\".\n",
        "        NOTE: do not plot all the words listed in M_reduced / word2ind.\n",
        "        Include a label next to each point.\n",
        "        \n",
        "        Params:\n",
        "            M_reduced (numpy matrix of shape (number of unique words in the corpus , 2)): matrix of 2-dimensioal word embeddings\n",
        "            word2ind (dict): dictionary that maps word to indices for matrix M\n",
        "            words (list of strings): words whose embeddings we want to visualize\n",
        "    \"\"\"\n",
        "\n",
        "    # ------------------\n",
        "    # Write your implementation here.\n",
        "\n",
        "    for i, word in enumerate(words):\n",
        "        index = word2ind[word]\n",
        "        embedding = M_reduced[index]\n",
        "\n",
        "        x, y = embedding[0], embedding[1]\n",
        "        plt.scatter(x, y, marker='x', color='red')\n",
        "        plt.text(x, y, word, fontsize=9)\n",
        "    plt.show()\n",
        "\n",
        "    # ------------------"
      ],
      "execution_count": 8,
      "outputs": []
    },
    {
      "cell_type": "markdown",
      "metadata": {
        "id": "mn5hLXNEEa4_"
      },
      "source": [
        "### **Question 2.2**: word2vec Plot Analysis [written] (3 points)\n",
        "\n",
        "Run the cell below to plot the 2D word2vec embeddings for `['portland', 'pacific', 'forest', 'ocean', 'city', 'food', 'green', 'weird', 'cool', 'oregon']`.\n",
        "\n",
        "What clusters together in 2-dimensional embedding space? What doesn't cluster together that you think should have?"
      ]
    },
    {
      "cell_type": "code",
      "metadata": {
        "scrolled": true,
        "id": "ZGmbcCvPEa4_",
        "colab": {
          "base_uri": "https://localhost:8080/",
          "height": 265
        },
        "outputId": "7f2a9ec4-e3ff-43bc-c32e-53f3647df4f3"
      },
      "source": [
        "words = ['portland', 'pacific', 'forest', 'ocean', 'city', 'food', 'green', 'weird', 'cool', 'oregon']\n",
        "plot_embeddings(M_reduced, word2ind, words)"
      ],
      "execution_count": null,
      "outputs": [
        {
          "output_type": "display_data",
          "data": {
            "image/png": "[encoded data removed]",
            "text/plain": [
              "<Figure size 432x288 with 1 Axes>"
            ]
          },
          "metadata": {
            "tags": [],
            "needs_background": "light"
          }
        }
      ]
    },
    {
      "cell_type": "markdown",
      "metadata": {
        "id": "be-gXaPWEa4_"
      },
      "source": [
        "#### <font color=\"red\">Write your answer here.</font>\r\n",
        "\r\n",
        "Following are the words that cluster together in the 2-dimensional embedding space:  \r\n",
        "* Portland, Oregon\r\n",
        "* Weird, Forest, Ocean\r\n",
        "* Pacific, Green, Cool, Food\r\n",
        "* City\r\n",
        "\r\n",
        "I would have thought that Portland, Weird and City would have culstered togehter since Portland is known as a \"weird\" city and has been talked about as such in many news articles. I would have also thought that Pacific would be clustered with ocean because of the Pacific Ocean. Perhaps reducing the dimensionality significantly to 2 dimensions has caused a lot of details in the word embeddings to be lost. "
      ]
    },
    {
      "cell_type": "markdown",
      "metadata": {
        "id": "InBKs2UDbjw9"
      },
      "source": [
        "### **Question 2.3**: GloVe Twitter Plot Analysis [written] (3 points)\n",
        "\n",
        "\n",
        "In Section **Loading word vectors**, replace word2vec embeddings with GloVe Twitter 200-dimensional embeddings ''glove-twitter-200', and run all the cells again. \n",
        "\n",
        "And then run the cell below. What differences do you see in the GloVe embeddings as compared to word2vec embeddings?"
      ]
    },
    {
      "cell_type": "code",
      "metadata": {
        "id": "uQLH4wJQbkYu",
        "colab": {
          "base_uri": "https://localhost:8080/",
          "height": 320
        },
        "outputId": "ba78d943-f0a6-40cf-b178-843037702c7b"
      },
      "source": [
        "words = ['portland', 'pacific', 'forest', 'ocean', 'city', 'food', 'green', 'weird', 'cool', 'oregon']\n",
        "plot_embeddings(M_reduced, word2ind, words)"
      ],
      "execution_count": 9,
      "outputs": [
        {
          "output_type": "display_data",
          "data": {
            "image/png": "[encoded data removed]",
            "text/plain": [
              "<Figure size 720x360 with 1 Axes>"
            ]
          },
          "metadata": {
            "tags": [],
            "needs_background": "light"
          }
        }
      ]
    },
    {
      "cell_type": "markdown",
      "metadata": {
        "id": "a_aBTDXFcedw"
      },
      "source": [
        "#### <font color=\"red\">Write your answer here.</font>\r\n",
        "\r\n",
        "Major differences that I see between the GloVe embeddings and word2vec embeddings:  \r\n",
        "* Pacific and forest are clustered together in GloVe embeddings but not in the word2vec embeddings. I believe this is the case since both the words appear in the same context in tweets much more often that they appear in the news articles. \r\n",
        "* For GloVe embeddings, city is closer to cool and food. On the other hand, for word2vec embeddings, word city is far away from any other word. This might be the case because of city, good and cool appearing in same context much more often in tweets when compared to contexts for news articles.\r\n",
        "* The GloVe embeddings seem to have more seperated clusters when comapred to the clusters for word2vec embeddings."
      ]
    },
    {
      "cell_type": "markdown",
      "metadata": {
        "id": "3qy8DRwJcz-7"
      },
      "source": [
        "### **Note: For the following sections, you may choose to continue with GloVe embeddings, or reload the word2vec vectors.**\n",
        "\n",
        "---\n",
        "\n",
        "\n"
      ]
    },
    {
      "cell_type": "markdown",
      "metadata": {
        "id": "LVgqm_qmEa5A"
      },
      "source": [
        "### Cosine Similarity\n",
        "Now that we have word vectors, we need a way to quantify the similarity between individual words, according to these vectors. One such metric is cosine-similarity. We will be using this to find words that are \"close\" and \"far\" from one another.\n",
        "\n",
        "We can think of n-dimensional vectors as points in n-dimensional space. If we take this perspective [L1](http://mathworld.wolfram.com/L1-Norm.html) and [L2](http://mathworld.wolfram.com/L2-Norm.html) Distances help quantify the amount of space \"we must travel\" to get between these two points. Another approach is to examine the angle between two vectors. From trigonometry we know that:\n",
        "\n",
        "<img src=\"inner_product.png\" width=20% style=\"float: center;\"></img>\n",
        "\n",
        "Instead of computing the actual angle, we can compute the similarity in terms of $similarity = cos(\\Theta)$. Formally the [Cosine Similarity](https://en.wikipedia.org/wiki/Cosine_similarity) $s$ between two vectors $p$ and $q$ is defined as:\n",
        "\n",
        "$$s = \\frac{p \\cdot q}{||p|| ||q||}, \\textrm{ where } s \\in [-1, 1] $$ "
      ]
    },
    {
      "cell_type": "markdown",
      "metadata": {
        "id": "K13H1DFHEa5A"
      },
      "source": [
        "### **Question 3.1**: Words with Multiple Meanings  [code + written] (2 points)\n",
        "Polysemes and homonyms are words that have more than one meaning (see this [wiki page](https://en.wikipedia.org/wiki/Polysemy) to learn more about the difference between polysemes and homonyms ). Find a word with *at least two different meanings* such that the top-10 most similar words (according to cosine similarity) contain related words from *both* meanings. For example, \"leaves\" has both \"go_away\" and \"a_structure_of_a_plant\" meaning in the top 10, and \"scoop\" has both \"handed_waffle_cone\" and \"lowdown\". You will probably need to try several polysemous or homonymic words before you find one. \n",
        "\n",
        "Please state the word you discover and the multiple meanings that occur in the top 10. Why do you think many of the polysemous or homonymic words you tried didn't work (i.e. the top-10 most similar words only contain **one** of the meanings of the words)?\n",
        "\n",
        "**Note**: You should use the `wv_from_bin.most_similar(word)` function to get the top 10 similar words. This function ranks all other words in the vocabulary with respect to their cosine similarity to the given word. For further assistance, please check the __[GenSim documentation](https://radimrehurek.com/gensim/models/keyedvectors.html#gensim.models.keyedvectors.FastTextKeyedVectors.most_similar)__."
      ]
    },
    {
      "cell_type": "code",
      "metadata": {
        "id": "ixC2fCG6Ea5A",
        "colab": {
          "base_uri": "https://localhost:8080/",
          "height": 0
        },
        "outputId": "b3ae781a-18d7-4712-e363-81038f5d6919"
      },
      "source": [
        "    # ------------------\n",
        "    # Write your implementation here.\n",
        "    wv_from_bin.most_similar('subject')\n",
        "    # ------------------"
      ],
      "execution_count": 16,
      "outputs": [
        {
          "output_type": "execute_result",
          "data": {
            "text/plain": [
              "[('Subject', 0.5795504450798035),\n",
              " ('topic', 0.5302678346633911),\n",
              " ('Note_Movie_showtimes', 0.5039901733398438),\n",
              " ('Indicate_Pet_Ohana', 0.4745178818702698),\n",
              " ('concerning', 0.47359928488731384),\n",
              " ('Sonus_sole_discretion', 0.4703121483325958),\n",
              " ('Type_Inbox', 0.4628622531890869),\n",
              " ('relating', 0.4608666002750397),\n",
              " ('subjects', 0.45246899127960205),\n",
              " ('consents_authorizations', 0.44522175192832947)]"
            ]
          },
          "metadata": {
            "tags": []
          },
          "execution_count": 16
        }
      ]
    },
    {
      "cell_type": "markdown",
      "metadata": {
        "id": "60AEbKqdEa5A"
      },
      "source": [
        "#### <font color=\"red\">Write your answer here.</font>\r\n",
        "\r\n",
        "I discovered that the word \"subject\" has at least two different meanings such that the top-10 most similar words (according to cosine similarity) contain related words from both meanings.\r\n",
        "\r\n",
        "Looking at the top-10 similar words for the word \"subject\", following are the three different meanings that I discovered:  \r\n",
        "* \"topic\": a topic/subject like Hisotry, Geography, Math, etc.\r\n",
        "* \"Type_Inbox\": subject within the context of an email in an inbox\r\n",
        "* \"consents_authorizations\": semantically similar to phrase \"is subject to\". Example: Discretionary bonus is subject to Chairman's approval.\r\n",
        "\r\n",
        "I believe that many of the polysemous or homonymic words that I tried didn't work since they don't appear in the same context in the dataset that the model is trained on.  \r\n",
        "\r\n"
      ]
    },
    {
      "cell_type": "markdown",
      "metadata": {
        "id": "Mz1P4SYGEa5A"
      },
      "source": [
        "### **Question 3.2**: Synonyms & Antonyms  [code + written] (2 points)\n",
        "\n",
        "When considering Cosine Similarity, it's often more convenient to think of Cosine Distance, which is simply 1 - Cosine Similarity.\n",
        "\n",
        "Find three words $(w_1,w_2,w_3)$ where $w_1$ and $w_2$ are synonyms and $w_1$ and $w_3$ are antonyms, but Cosine Distance $(w_1,w_3) <$ Cosine Distance $(w_1,w_2)$. \n",
        "\n",
        "As an example, $w_1$=\"happy\" is closer to $w_3$=\"sad\" than to $w_2$=\"excited\". Please find a different example that satisfies the above. Once you have found your example, please give a possible explanation for why this counter-intuitive result may have happened.\n",
        "\n",
        "You should use the the `wv_from_bin.distance(w1, w2)` function here in order to compute the cosine distance between two words. Please see the __[GenSim documentation](https://radimrehurek.com/gensim/models/keyedvectors.html#gensim.models.keyedvectors.FastTextKeyedVectors.distance)__ for further assistance."
      ]
    },
    {
      "cell_type": "code",
      "metadata": {
        "id": "FFrMO2Y0Ea5B",
        "colab": {
          "base_uri": "https://localhost:8080/",
          "height": 0
        },
        "outputId": "7bd88fbe-8d42-4f2a-d45b-9a4cce7170e6"
      },
      "source": [
        "    # ------------------\n",
        "    # Write your implementation here.\n",
        "\n",
        "    w1, w2, w3 = 'long', 'lengthy', 'short'\n",
        "\n",
        "    distance_between_antonyms = wv_from_bin.distance(w1, w3)\n",
        "    distance_between_synonyms = wv_from_bin.distance(w1, w2)\n",
        "\n",
        "    if distance_between_antonyms < distance_between_synonyms:\n",
        "        print('Distance between Antonyms ({}, {}) = {} is less than the distance between synonyms ({}, {}) = {}'.format(w1, w3, distance_between_antonyms, w1, w2, distance_between_synonyms))\n",
        "    # ------------------"
      ],
      "execution_count": 18,
      "outputs": [
        {
          "output_type": "stream",
          "text": [
            "Distance between Antonyms (long, short) = 0.42315673828125 is less than the distance between synonyms (long, lengthy) = 0.5154392421245575\n"
          ],
          "name": "stdout"
        }
      ]
    },
    {
      "cell_type": "markdown",
      "metadata": {
        "id": "Dt6_Rsd9Ea5B"
      },
      "source": [
        "#### <font color=\"red\">Write your answer here.</font>\r\n",
        "\r\n",
        "Words long and short are antonyms. Words long and lengthy are synonyms. Word long is at a closer distance to antonym \"short\" than it is to it's synonym \"lengthy\". This counter-intuitive result might be cased as a result of the antonyms \"short\" and \"long\" appearing in the same context more often than the synonyms \"lengthy\" and \"long\". "
      ]
    },
    {
      "cell_type": "markdown",
      "metadata": {
        "id": "tAC9BXocEa5B"
      },
      "source": [
        "### **Question 3.3**: Analogies with Word Vectors [written] (1 point)\n",
        "Word vectors have been shown to *sometimes* exhibit the ability to solve analogies. \n",
        "\n",
        "As an example, for the analogy \"man : king :: woman : x\" (read: man is to king as woman is to x), what is x?\n",
        "\n",
        "In the cell below, we show you how to use word vectors to find x using the `most_similar` function from the __[GenSim documentation](https://radimrehurek.com/gensim/models/keyedvectors.html#gensim.models.keyedvectors.KeyedVectors.most_similar)__. The function finds words that are most similar to the words in the `positive` list and most dissimilar from the words in the `negative` list (while omitting the input words, which are often the most similar; see [this paper](https://www.aclweb.org/anthology/N18-2039.pdf)). The answer to the analogy will have the highest cosine similarity (largest returned numerical value)."
      ]
    },
    {
      "cell_type": "code",
      "metadata": {
        "id": "uAXr6Ob6Ea5B",
        "colab": {
          "base_uri": "https://localhost:8080/",
          "height": 0
        },
        "outputId": "084b4b59-ac61-4da1-825a-707d546022d7"
      },
      "source": [
        "# Run this cell to answer the analogy -- man : king :: woman : x\n",
        "pprint.pprint(wv_from_bin.most_similar(positive=['woman', 'king'], negative=['man']))"
      ],
      "execution_count": 19,
      "outputs": [
        {
          "output_type": "stream",
          "text": [
            "[('queen', 0.7118192911148071),\n",
            " ('monarch', 0.6189674139022827),\n",
            " ('princess', 0.5902431011199951),\n",
            " ('crown_prince', 0.5499460697174072),\n",
            " ('prince', 0.5377321243286133),\n",
            " ('kings', 0.5236844420433044),\n",
            " ('Queen_Consort', 0.5235945582389832),\n",
            " ('queens', 0.518113374710083),\n",
            " ('sultan', 0.5098593235015869),\n",
            " ('monarchy', 0.5087411999702454)]\n"
          ],
          "name": "stdout"
        }
      ]
    },
    {
      "cell_type": "markdown",
      "metadata": {
        "id": "2AaXChc8Ea5B"
      },
      "source": [
        "Let $m$, $k$, $w$, and $x$ denote the word vectors for `man`, `king`, `woman`, and the answer, respectively. Using **only** vectors $m$, $k$, $w$, and the vector arithmetic operators $+$ and $-$ in your answer, what is the expression in which we are maximizing cosine similarity with $x$?\n",
        "\n",
        "Hint: Recall that word vectors are simply multi-dimensional vectors that represent a word. It might help to draw out a 2D example using arbitrary locations of each vector. Where would `man` and `woman` lie in the coordinate plane relative to `king` and the answer?"
      ]
    },
    {
      "cell_type": "markdown",
      "metadata": {
        "id": "96xSgT0xEa5B"
      },
      "source": [
        "#### <font color=\"red\">Write your answer here.</font>\r\n",
        "\r\n",
        "x = k - m + w"
      ]
    },
    {
      "cell_type": "markdown",
      "metadata": {
        "id": "XWzOOni_Ea5C"
      },
      "source": [
        "### **Question 3.4**: Finding Analogies [code + written]  (1 point)\n",
        "Find an example of analogy that holds according to these vectors (i.e. the intended word is ranked top). In your solution please state the full analogy in the form x:y :: a:b. If you believe the analogy is complicated, explain why the analogy holds in one or two sentences.\n",
        "\n",
        "**Note**: You may have to try many analogies to find one that works!"
      ]
    },
    {
      "cell_type": "code",
      "metadata": {
        "id": "PsRr1OwNEa5C",
        "colab": {
          "base_uri": "https://localhost:8080/",
          "height": 0
        },
        "outputId": "32ab3326-9004-47d3-dd19-97d21fe45639"
      },
      "source": [
        "    # ------------------\n",
        "    # Write your implementation here.\n",
        "    a1, b1, a2 = 'Italy', 'Rome', 'Germany'\n",
        "\n",
        "    wv_from_bin.most_similar(positive=[a2, b1], negative=[a1])\n",
        "    # ------------------"
      ],
      "execution_count": 22,
      "outputs": [
        {
          "output_type": "execute_result",
          "data": {
            "text/plain": [
              "[('Berlin', 0.7331948280334473),\n",
              " ('Munich', 0.6301003098487854),\n",
              " ('Cologne', 0.5934746265411377),\n",
              " ('Stuttgart', 0.5742264986038208),\n",
              " ('Frankfurt', 0.5692731142044067),\n",
              " ('Munich_Germany', 0.5652787089347839),\n",
              " ('Cologne_Germany', 0.5621277093887329),\n",
              " ('Warsaw', 0.5605031847953796),\n",
              " ('Stuttgart_Germany', 0.5522380471229553),\n",
              " ('Hamburg', 0.547443687915802)]"
            ]
          },
          "metadata": {
            "tags": []
          },
          "execution_count": 22
        }
      ]
    },
    {
      "cell_type": "markdown",
      "metadata": {
        "id": "O3GXxOLVEa5C"
      },
      "source": [
        "#### <font color=\"red\">Write your answer here.</font>\r\n",
        "\r\n",
        "`Italy : Rome :: Germany : Berlin` is an example of analogy that holds according to these vectors (i.e. the intended word is ranked top). Rome is capital of Italy and Berlin (top ranked similar word) is capital of Germany. "
      ]
    },
    {
      "cell_type": "markdown",
      "metadata": {
        "id": "8fXaqGFaEa5C"
      },
      "source": [
        "### **Question 3.5**: Incorrect Analogy [code + written] (1 point)\n",
        "Find an example of analogy that does *not* hold according to these vectors. In your solution, state the intended analogy in the form x:y :: a:b, and state the (incorrect) value of b according to the word vectors."
      ]
    },
    {
      "cell_type": "code",
      "metadata": {
        "id": "wA2zwxtTEa5C",
        "colab": {
          "base_uri": "https://localhost:8080/",
          "height": 0
        },
        "outputId": "86c68de1-2f4d-4ff8-acd1-bb4721da18ed"
      },
      "source": [
        "    # ------------------\n",
        "    # Write your implementation here.\n",
        "    a1, b1, a2 = 'Recession', 'Poor', 'Boom'\n",
        "\n",
        "    wv_from_bin.most_similar(positive=[a2, b1], negative=[a1])\n",
        "    # ------------------"
      ],
      "execution_count": 23,
      "outputs": [
        {
          "output_type": "execute_result",
          "data": {
            "text/plain": [
              "[('Poor_GSCI', 0.5205868482589722),\n",
              " (\"Poor's\", 0.4737396240234375),\n",
              " ('Poor_CreditWeek', 0.46510326862335205),\n",
              " ('Poor_Depositary_Receipts', 0.46433374285697937),\n",
              " ('Poor_Supercomposite_Machinery', 0.46243011951446533),\n",
              " ('Poorâ_€_™', 0.4567013382911682),\n",
              " ('Poor_Marketscope', 0.4552815854549408),\n",
              " ('Poor_Supercomposite', 0.4389936029911041),\n",
              " ('Poor_GSCI_Spot', 0.43344369530677795),\n",
              " ('Poors', 0.43112510442733765)]"
            ]
          },
          "metadata": {
            "tags": []
          },
          "execution_count": 23
        }
      ]
    },
    {
      "cell_type": "markdown",
      "metadata": {
        "id": "th9u3Mf2Ea5C"
      },
      "source": [
        "#### <font color=\"red\">Write your answer here.</font>\r\n",
        "\r\n",
        "`Recession : Poor :: Boom : Rich` is an example of an intended analogy that did not hold true according to the vectors. The incorrect value is `Poor_GSCI`."
      ]
    },
    {
      "cell_type": "markdown",
      "metadata": {
        "id": "xqCf3SHMEa5D"
      },
      "source": [
        "### **Question 3.6**: Guided Analysis of Bias in Word Vectors [written] (1 point)\n",
        "\n",
        "It's important to be cognizant of the biases (gender, race, sexual orientation etc.) implicit in our word embeddings. Bias can be dangerous because it can reinforce stereotypes through applications that employ these models.\n",
        "\n",
        "Run the cell below, to examine (a) which terms are most similar to \"woman\" and \"worker\" and most dissimilar to \"man\", and (b) which terms are most similar to \"man\" and \"worker\" and most dissimilar to \"woman\". Point out the difference between the list of female-associated words and the list of male-associated words, and explain how it is reflecting gender bias."
      ]
    },
    {
      "cell_type": "code",
      "metadata": {
        "id": "67-UyfoEEa5D",
        "colab": {
          "base_uri": "https://localhost:8080/",
          "height": 0
        },
        "outputId": "fc1aecbd-0f23-4b1a-ade1-2ae8716e4601"
      },
      "source": [
        "# Run this cell\n",
        "# Here `positive` indicates the list of words to be similar to and `negative` indicates the list of words to be\n",
        "# most dissimilar from.\n",
        "pprint.pprint(wv_from_bin.most_similar(positive=['woman', 'worker'], negative=['man']))\n",
        "print()\n",
        "pprint.pprint(wv_from_bin.most_similar(positive=['man', 'worker'], negative=['woman']))"
      ],
      "execution_count": 24,
      "outputs": [
        {
          "output_type": "stream",
          "text": [
            "[('workers', 0.6582455635070801),\n",
            " ('employee', 0.5805293321609497),\n",
            " ('nurse', 0.5249921679496765),\n",
            " ('receptionist', 0.5142490267753601),\n",
            " ('migrant_worker', 0.5001609325408936),\n",
            " ('Worker', 0.4979269802570343),\n",
            " ('housewife', 0.48609834909439087),\n",
            " ('registered_nurse', 0.4846190810203552),\n",
            " ('laborer', 0.48437267541885376),\n",
            " ('coworker', 0.48212406039237976)]\n",
            "\n",
            "[('workers', 0.5590360164642334),\n",
            " ('laborer', 0.54481041431427),\n",
            " ('foreman', 0.5192232131958008),\n",
            " ('Worker', 0.5161596536636353),\n",
            " ('employee', 0.5094279050827026),\n",
            " ('electrician', 0.49481213092803955),\n",
            " ('janitor', 0.48718899488449097),\n",
            " ('bricklayer', 0.4825313091278076),\n",
            " ('carpenter', 0.47498998045921326),\n",
            " ('workman', 0.4642517566680908)]\n"
          ],
          "name": "stdout"
        }
      ]
    },
    {
      "cell_type": "markdown",
      "metadata": {
        "id": "_3TsG0JTEa5D"
      },
      "source": [
        "#### <font color=\"red\">Write your answer here.</font>\r\n",
        "\r\n",
        "Some terms that are similar to \"woman\" and \"worker\" and dissimilar to \"man\":\r\n",
        "* nurse\r\n",
        "* receptionist\r\n",
        "* migrant worker\r\n",
        "* housewife  \r\n",
        "\r\n",
        "Some terms that are similar to \"man\" and \"worker\" and dissimilar to \"woman\":\r\n",
        " * laborer\r\n",
        " * foreman\r\n",
        " * electrician\r\n",
        "\r\n",
        "The female-associated words are occupations that have been traditionally thought as being female oriented/dominated (such as housewife, nurse, receptionist) where as the male-associated words are occupations that have been traditionally thought as being male oriented/dominated (such as electrician, carpenter). The associated words for both males and females thus reflect gender bias.  "
      ]
    },
    {
      "cell_type": "markdown",
      "metadata": {
        "id": "eQxVwuRxEa5D"
      },
      "source": [
        "### **Question 3.7**: Independent Analysis of Bias in Word Vectors [code + written]  (1 point)\n",
        "\n",
        "Use the `most_similar` function to find another case where some bias is exhibited by the vectors. Please briefly explain the example of bias that you discover."
      ]
    },
    {
      "cell_type": "code",
      "metadata": {
        "id": "pHhONBaPEa5D",
        "colab": {
          "base_uri": "https://localhost:8080/",
          "height": 0
        },
        "outputId": "15f2372c-d519-43ac-f828-d3780fdb9a8b"
      },
      "source": [
        "    # ------------------\n",
        "    # Write your implementation here.\n",
        "    a1, b1, a2 = 'man', 'computer_programmer', 'woman'\n",
        "    pprint.pprint(wv_from_bin.most_similar(positive=[a2, b1], negative=[a1]))\n",
        "    print()\n",
        "    a1, b1, a2 = 'woman', 'computer_programmer', 'man'\n",
        "    pprint.pprint(wv_from_bin.most_similar(positive=[a2, b1], negative=[a1]))\n",
        "    # ------------------"
      ],
      "execution_count": 25,
      "outputs": [
        {
          "output_type": "stream",
          "text": [
            "[('homemaker', 0.5627118945121765),\n",
            " ('housewife', 0.5105047225952148),\n",
            " ('graphic_designer', 0.505180299282074),\n",
            " ('schoolteacher', 0.49794942140579224),\n",
            " ('businesswoman', 0.49348920583724976),\n",
            " ('paralegal', 0.4925510883331299),\n",
            " ('registered_nurse', 0.49079740047454834),\n",
            " ('saleswoman', 0.4881627559661865),\n",
            " ('electrical_engineer', 0.4797726571559906),\n",
            " ('mechanical_engineer', 0.4755399823188782)]\n",
            "\n",
            "[('mechanical_engineer', 0.5722424387931824),\n",
            " ('programmer', 0.5207855105400085),\n",
            " ('electrical_engineer', 0.5194995403289795),\n",
            " ('carpenter', 0.5049606561660767),\n",
            " ('engineer', 0.5011439919471741),\n",
            " ('machinist', 0.4978950619697571),\n",
            " ('salesman', 0.4879138171672821),\n",
            " ('tinkerer', 0.4761508107185364),\n",
            " ('mechanic', 0.47450771927833557),\n",
            " ('mathematician', 0.4683227837085724)]\n"
          ],
          "name": "stdout"
        }
      ]
    },
    {
      "cell_type": "markdown",
      "metadata": {
        "id": "i8uB_wEHEa5E"
      },
      "source": [
        "#### <font color=\"red\">Write your answer here.</font>\r\n",
        "\r\n",
        "Some terms that are similar to \"woman\" and \"computer_programmer\" and dissimilar to \"man\":\r\n",
        "* homemaker\r\n",
        "* housewife\r\n",
        "* registered nurse\r\n",
        "\r\n",
        "Some terms that are similar to \"man\" and \"computer_programmer\" and dissimilar to \"woman\":\r\n",
        " * mechanical engineer\r\n",
        " * programmer\r\n",
        "\r\n",
        "The vectors above exhibit bias since \"programmer\" does not appear once when getting words that similar to \"woman\" and \"computer_programmer\" and dissimilar to \"man\". Most programmers tend to be man and thus this gender related occupational bias is reflected by the vectors."
      ]
    },
    {
      "cell_type": "markdown",
      "metadata": {
        "id": "RDtHxopvEa5E"
      },
      "source": [
        "### **Question 3.8**: Thinking About Bias [written] (2 points)\n",
        "\n",
        "Give one explanation of how bias gets into the word vectors. What is an experiment that you could do to test for or to measure this source of bias?"
      ]
    },
    {
      "cell_type": "markdown",
      "metadata": {
        "id": "Bpzs1zRuEa5E"
      },
      "source": [
        "#### <font color=\"red\">Write your answer here.</font>\r\n",
        "\r\n",
        "If bias is reflected in the context of phrases, sentences, paragrahps and/or documents that are used to derive the word vectors, then the underlying bias is likely to get picked up by the word vectors.  \r\n",
        "\r\n",
        "Historical texts could used to derive \"historical\" embeddings that could be then used to measure biases in the past. Specifically, association between embeddings for Women's and Men's names could be compared to occpupation words embeddings like \"house maker\" and \"carpenter\" as an example of an experiment."
      ]
    },
    {
      "cell_type": "markdown",
      "metadata": {
        "id": "tIjgFwuOEa5E"
      },
      "source": [
        "# <font color=\"blue\"> Submission Instructions</font>\n",
        "\n",
        "When you are satified with your results, you can submit this assignment by doing the following:\n",
        "\n",
        "1. Click the Save button at the top of the Jupyter Notebook.\n",
        "\n",
        "2. Add your name and PSU ID # at the top.\n",
        "\n",
        "3. **For Colab**: \n",
        "\n",
        "(i) Select *Edit > Clear All Outputs*.\n",
        "\n",
        "(ii) Click *Runtime > Restart and Run All*.\n",
        "\n",
        "\n",
        "(iii) Click *File > Print* and print to PDF. Name the file hw#_[odin_userid].pdf (for example Homework 1 for John Doe might be hw1_jdoe.pdf)\n",
        "   \n",
        "3. **For Jupyter running on local machine**:\n",
        "\n",
        "(i) Select *Cell -> All Output -> Clear*. This will clear all the outputs from all cells (but will keep the content of all cells).\n",
        "\n",
        "(ii) Select *Cell -> Run All*. This will run all the cells in order, and will take several minutes.\n",
        "\n",
        "(iii) Once you've rerun everything, select *File -> Download as -> PDF via LaTeX*.\n",
        "\n",
        "\n",
        "4. Look at the PDF file and make sure all your solutions are there, displayed correctly.\n",
        "\n",
        "5. Also download your .ipynb.\n",
        "\n",
        "5. Submit both the PDF file and the Jupyter notebook (.ipynb) on D2L under *Activities > Assignment* under the appropriate assignment."
      ]
    }
  ]
}