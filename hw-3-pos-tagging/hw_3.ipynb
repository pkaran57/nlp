{
 "cells": [
  {
   "cell_type": "markdown",
   "metadata": {
    "id": "jaA8iDk31lWi"
   },
   "source": [
    "# Assignment 3: Parts-of-Speech Tagging \n",
    "\n",
    "Name: Karan Patel"
   ]
  },
  {
   "cell_type": "code",
   "execution_count": 1,
   "metadata": {
    "colab": {
     "base_uri": "https://localhost:8080/"
    },
    "id": "JQWwtmYe2HrY",
    "outputId": "f3b259f2-55fa-4ec8-f183-5514438bb11f"
   },
   "outputs": [
    {
     "name": "stderr",
     "output_type": "stream",
     "text": [
      "[nltk_data] Downloading package punkt to\n",
      "[nltk_data]     C:\\Users\\r631915\\AppData\\Roaming\\nltk_data...\n",
      "[nltk_data]   Unzipping tokenizers\\punkt.zip.\n",
      "[nltk_data] Downloading package averaged_perceptron_tagger to\n",
      "[nltk_data]     C:\\Users\\r631915\\AppData\\Roaming\\nltk_data...\n",
      "[nltk_data]   Unzipping taggers\\averaged_perceptron_tagger.zip.\n"
     ]
    },
    {
     "data": {
      "text/plain": [
       "True"
      ]
     },
     "execution_count": 1,
     "metadata": {},
     "output_type": "execute_result"
    }
   ],
   "source": [
    "import nltk\n",
    "nltk.download('punkt')\n",
    "nltk.download('averaged_perceptron_tagger')"
   ]
  },
  {
   "cell_type": "markdown",
   "metadata": {
    "id": "8SP1OSqQ11R0"
   },
   "source": [
    "1. Search the web for 2 “spoof newspaper headlines”, to find such gems as: _British Left Waffles on Falkland Islands_, and _Juvenile Court to Try Shooting Defendant_. Manually tag these headlines to see if knowledge of the part-of-speech tags removes the ambiguity.\n",
    "\n",
    "__Answer__: \n",
    "\n",
    "Following are the two spoof newspaper headlines that I found from the web:\n",
    "1. Cows lose their jobs as milk prices drop\n",
    "2. Trump's Lawyers: Telling Armed Crazies to \"Go to Capitol\" and \"Fight Like Hell\" Was Just Metaphorical"
   ]
  },
  {
   "cell_type": "code",
   "execution_count": 2,
   "metadata": {
    "colab": {
     "base_uri": "https://localhost:8080/"
    },
    "id": "9cG1uvmv2GjV",
    "outputId": "d84a39b6-e824-4a09-e08e-b95ae9d5eeb6"
   },
   "outputs": [
    {
     "name": "stdout",
     "output_type": "stream",
     "text": [
      "POS tags for headline #1:\n",
      "[('Cows', 'NNS'), ('lose', 'VBP'), ('their', 'PRP$'), ('jobs', 'NNS'), ('as', 'IN'), ('milk', 'NN'), ('prices', 'NNS'), ('drop', 'NN')]\n",
      "\n",
      "POS tags for headline #2:\n",
      "[('Trump', 'NNP'), (\"'s\", 'POS'), ('Lawyers', 'NNS'), (':', ':'), ('Telling', 'NNP'), ('Armed', 'NNP'), ('Crazies', 'NNPS'), ('to', 'TO'), ('``', '``'), ('Go', 'VB'), ('to', 'TO'), ('Capitol', 'NNP'), (\"''\", \"''\"), ('and', 'CC'), ('``', '``'), ('Fight', 'NNP'), ('Like', 'IN'), ('Hell', 'NNP'), (\"''\", \"''\"), ('Was', 'NNP'), ('Just', 'NNP'), ('Metaphorical', 'NNP')]\n"
     ]
    }
   ],
   "source": [
    "tokens = nltk.word_tokenize(\"Cows lose their jobs as milk prices drop\")\n",
    "print(\"POS tags for headline #1:\\n{}\\n\".format(nltk.pos_tag(tokens)))\n",
    "\n",
    "tokens = nltk.word_tokenize('Trump\\'s Lawyers: Telling Armed Crazies to \"Go to Capitol\" and \"Fight Like Hell\" Was Just Metaphorical')\n",
    "print(\"POS tags for headline #2:\\n{}\".format(nltk.pos_tag(tokens)))"
   ]
  },
  {
   "cell_type": "markdown",
   "metadata": {
    "id": "B3NnAzBg2uol"
   },
   "source": [
    "2. Tokenize and tag the following sentence: They wind back the clock, while we chase after the wind. What is the output?"
   ]
  },
  {
   "cell_type": "code",
   "execution_count": 3,
   "metadata": {
    "colab": {
     "base_uri": "https://localhost:8080/"
    },
    "id": "RnR_apph6wUw",
    "outputId": "7911e6ee-2f10-453d-eb90-58fa031faf41"
   },
   "outputs": [
    {
     "name": "stdout",
     "output_type": "stream",
     "text": [
      "POS tags for sentence:\n",
      "[('They', 'PRP'), ('wind', 'VBP'), ('back', 'RB'), ('the', 'DT'), ('clock', 'NN'), (',', ','), ('while', 'IN'), ('we', 'PRP'), ('chase', 'VBP'), ('after', 'IN'), ('the', 'DT'), ('wind', 'NN'), ('.', '.')]\n"
     ]
    }
   ],
   "source": [
    "tokens = nltk.word_tokenize('They wind back the clock, while we chase after the wind.')\n",
    "print(\"POS tags for sentence:\\n{}\".format(nltk.pos_tag(tokens)))"
   ]
  },
  {
   "cell_type": "markdown",
   "metadata": {
    "id": "6moIgAI92yvx"
   },
   "source": [
    "3. Pick 2 words that can be either a noun or a verb (e.g., contest). Predict which POS tag is likely to be the most frequent in the Brown corpus, and compare with your predictions.\n"
   ]
  },
  {
   "cell_type": "code",
   "execution_count": null,
   "metadata": {},
   "outputs": [],
   "source": []
  },
  {
   "cell_type": "markdown",
   "metadata": {
    "id": "OjkN-f5A22v1"
   },
   "source": [
    "4. Use sorted() and set() to get a sorted list of tags used in the Brown corpus, removing duplicates.\n"
   ]
  }
 ],
 "metadata": {
  "colab": {
   "collapsed_sections": [],
   "name": "hw-3.ipynb",
   "provenance": []
  },
  "kernelspec": {
   "display_name": "Python 3",
   "language": "python",
   "name": "python3"
  },
  "language_info": {
   "codemirror_mode": {
    "name": "ipython",
    "version": 3
   },
   "file_extension": ".py",
   "mimetype": "text/x-python",
   "name": "python",
   "nbconvert_exporter": "python",
   "pygments_lexer": "ipython3",
   "version": "3.9.1"
  },
  "toc": {
   "base_numbering": 1,
   "nav_menu": {},
   "number_sections": true,
   "sideBar": true,
   "skip_h1_title": false,
   "title_cell": "Table of Contents",
   "title_sidebar": "Contents",
   "toc_cell": false,
   "toc_position": {},
   "toc_section_display": true,
   "toc_window_display": true
  }
 },
 "nbformat": 4,
 "nbformat_minor": 1
}
