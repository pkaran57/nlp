{
 "cells": [
  {
   "cell_type": "markdown",
   "metadata": {
    "id": "jaA8iDk31lWi"
   },
   "source": [
    "# Assignment 3: Parts-of-Speech Tagging \n",
    "\n",
    "Name: Karan Patel  \n",
    "Categorizing and Tagging Words: http://www.nltk.org/book/ch05.html"
   ]
  },
  {
   "cell_type": "code",
   "execution_count": 1,
   "metadata": {
    "colab": {
     "base_uri": "https://localhost:8080/"
    },
    "id": "JQWwtmYe2HrY",
    "outputId": "f3b259f2-55fa-4ec8-f183-5514438bb11f"
   },
   "outputs": [
    {
     "name": "stderr",
     "output_type": "stream",
     "text": [
      "[nltk_data] Downloading package punkt to\n",
      "[nltk_data]     C:\\Users\\r631915\\AppData\\Roaming\\nltk_data...\n",
      "[nltk_data]   Package punkt is already up-to-date!\n",
      "[nltk_data] Downloading package averaged_perceptron_tagger to\n",
      "[nltk_data]     C:\\Users\\r631915\\AppData\\Roaming\\nltk_data...\n",
      "[nltk_data]   Package averaged_perceptron_tagger is already up-to-\n",
      "[nltk_data]       date!\n",
      "[nltk_data] Downloading package brown to\n",
      "[nltk_data]     C:\\Users\\r631915\\AppData\\Roaming\\nltk_data...\n",
      "[nltk_data]   Package brown is already up-to-date!\n",
      "[nltk_data] Downloading package universal_tagset to\n",
      "[nltk_data]     C:\\Users\\r631915\\AppData\\Roaming\\nltk_data...\n",
      "[nltk_data]   Package universal_tagset is already up-to-date!\n"
     ]
    },
    {
     "data": {
      "text/plain": [
       "True"
      ]
     },
     "execution_count": 1,
     "metadata": {},
     "output_type": "execute_result"
    }
   ],
   "source": [
    "import nltk\n",
    "from tqdm import tqdm\n",
    "from nltk.corpus import brown\n",
    "\n",
    "nltk.download('punkt')\n",
    "nltk.download('averaged_perceptron_tagger')\n",
    "nltk.download('brown')\n",
    "nltk.download('universal_tagset')"
   ]
  },
  {
   "cell_type": "markdown",
   "metadata": {
    "id": "8SP1OSqQ11R0"
   },
   "source": [
    "__Q1.__ Search the web for 2 “spoof newspaper headlines”, to find such gems as: _British Left Waffles on Falkland Islands_, and _Juvenile Court to Try Shooting Defendant_. Manually tag these headlines to see if knowledge of the part-of-speech tags removes the ambiguity.\n",
    "\n",
    "__Answer__: \n",
    "\n",
    "Following are the two spoof newspaper headlines that I found from the web:\n",
    "1. Cows lose their jobs as milk prices drop\n",
    "2. Trump's Lawyers: Telling Armed Crazies to \"Go to Capitol\" and \"Fight Like Hell\" Was Just Metaphorical"
   ]
  },
  {
   "cell_type": "code",
   "execution_count": 2,
   "metadata": {
    "colab": {
     "base_uri": "https://localhost:8080/"
    },
    "id": "9cG1uvmv2GjV",
    "outputId": "d84a39b6-e824-4a09-e08e-b95ae9d5eeb6"
   },
   "outputs": [
    {
     "name": "stdout",
     "output_type": "stream",
     "text": [
      "POS tags for headline #1:\n",
      "[('Cows', 'NNS'), ('lose', 'VBP'), ('their', 'PRP$'), ('jobs', 'NNS'), ('as', 'IN'), ('milk', 'NN'), ('prices', 'NNS'), ('drop', 'NN')]\n",
      "\n",
      "POS tags for headline #2:\n",
      "[('Trump', 'NNP'), (\"'s\", 'POS'), ('Lawyers', 'NNS'), (':', ':'), ('Telling', 'NNP'), ('Armed', 'NNP'), ('Crazies', 'NNPS'), ('to', 'TO'), ('``', '``'), ('Go', 'VB'), ('to', 'TO'), ('Capitol', 'NNP'), (\"''\", \"''\"), ('and', 'CC'), ('``', '``'), ('Fight', 'NNP'), ('Like', 'IN'), ('Hell', 'NNP'), (\"''\", \"''\"), ('Was', 'NNP'), ('Just', 'NNP'), ('Metaphorical', 'NNP')]\n"
     ]
    }
   ],
   "source": [
    "tokens = nltk.word_tokenize(\"Cows lose their jobs as milk prices drop\")\n",
    "print(\"POS tags for headline #1:\\n{}\\n\".format(nltk.pos_tag(tokens)))\n",
    "\n",
    "tokens = nltk.word_tokenize('Trump\\'s Lawyers: Telling Armed Crazies to \"Go to Capitol\" and \"Fight Like Hell\" Was Just Metaphorical')\n",
    "print(\"POS tags for headline #2:\\n{}\".format(nltk.pos_tag(tokens)))"
   ]
  },
  {
   "cell_type": "markdown",
   "metadata": {
    "id": "B3NnAzBg2uol"
   },
   "source": [
    "__Q2.__ Tokenize and tag the following sentence: They wind back the clock, while we chase after the wind. What is the output?"
   ]
  },
  {
   "cell_type": "code",
   "execution_count": 3,
   "metadata": {
    "colab": {
     "base_uri": "https://localhost:8080/"
    },
    "id": "RnR_apph6wUw",
    "outputId": "7911e6ee-2f10-453d-eb90-58fa031faf41"
   },
   "outputs": [
    {
     "name": "stdout",
     "output_type": "stream",
     "text": [
      "POS tags for sentence:\n",
      "[('They', 'PRP'), ('wind', 'VBP'), ('back', 'RB'), ('the', 'DT'), ('clock', 'NN'), (',', ','), ('while', 'IN'), ('we', 'PRP'), ('chase', 'VBP'), ('after', 'IN'), ('the', 'DT'), ('wind', 'NN'), ('.', '.')]\n"
     ]
    }
   ],
   "source": [
    "tokens = nltk.word_tokenize('They wind back the clock, while we chase after the wind.')\n",
    "print(\"POS tags for sentence:\\n{}\".format(nltk.pos_tag(tokens)))"
   ]
  },
  {
   "cell_type": "markdown",
   "metadata": {
    "id": "6moIgAI92yvx"
   },
   "source": [
    "__Q3.__ Pick 2 words that can be either a noun or a verb (e.g., contest). Predict which POS tag is likely to be the most frequent in the Brown corpus, and compare with your predictions.\n"
   ]
  },
  {
   "cell_type": "code",
   "execution_count": 4,
   "metadata": {},
   "outputs": [
    {
     "name": "stdout",
     "output_type": "stream",
     "text": [
      "Most common POS tags for word \"increase\" = [('NOUN', 112), ('VERB', 82)]\n",
      "Most common POS tags for word \"attack\" = [('NOUN', 78), ('VERB', 24), ('X', 1)]\n"
     ]
    }
   ],
   "source": [
    "tag_fd = nltk.FreqDist(tag for (word, tag) in brown.tagged_words(tagset='universal') if word == 'increase')\n",
    "print('Most common POS tags for word \"increase\" = {}'.format(tag_fd.most_common()))\n",
    "\n",
    "tag_fd = nltk.FreqDist(tag for (word, tag) in brown.tagged_words(tagset='universal') if word == 'attack')\n",
    "print('Most common POS tags for word \"attack\" = {}'.format(tag_fd.most_common()))"
   ]
  },
  {
   "cell_type": "markdown",
   "metadata": {
    "id": "OjkN-f5A22v1"
   },
   "source": [
    "__Q4.__ Use sorted() and set() to get a sorted list of tags used in the Brown corpus, removing duplicates.\n"
   ]
  },
  {
   "cell_type": "code",
   "execution_count": 5,
   "metadata": {},
   "outputs": [
    {
     "data": {
      "text/plain": [
       "['.',\n",
       " 'ADJ',\n",
       " 'ADP',\n",
       " 'ADV',\n",
       " 'CONJ',\n",
       " 'DET',\n",
       " 'NOUN',\n",
       " 'NUM',\n",
       " 'PRON',\n",
       " 'PRT',\n",
       " 'VERB',\n",
       " 'X']"
      ]
     },
     "execution_count": 5,
     "metadata": {},
     "output_type": "execute_result"
    }
   ],
   "source": [
    "sorted(set(tag for (word, tag) in brown.tagged_words(tagset='universal')))"
   ]
  },
  {
   "cell_type": "markdown",
   "metadata": {},
   "source": [
    "__Q5.__ Write programs to process the Brown Corpus and find answers to the following questions:\n",
    "1. Which nouns are more common in their plural form, rather than their singular form? (Only consider regular plurals, formed with the -s suffix.)\n",
    "2. List tags in order of decreasing frequency. What do the 20 most frequent tags represent?"
   ]
  },
  {
   "cell_type": "code",
   "execution_count": 30,
   "metadata": {},
   "outputs": [
    {
     "name": "stdout",
     "output_type": "stream",
     "text": [
      "Found a total of 23187 singular nouns in the corpus.\n",
      "(Singluar) noun \"lodging\" is more common in its plural form \"lodgings\". Singular form count = 1, plural form count = 2\n",
      "(Singluar) noun \"interface\" is more common in its plural form \"interfaces\". Singular form count = 3, plural form count = 5\n",
      "(Singluar) noun \"monosyllable\" is more common in its plural form \"monosyllables\". Singular form count = 1, plural form count = 2\n",
      "(Singluar) noun \"critic\" is more common in its plural form \"critics\". Singular form count = 24, plural form count = 26\n",
      "(Singluar) noun \"exploit\" is more common in its plural form \"exploits\". Singular form count = 1, plural form count = 4\n",
      "(Singluar) noun \"periodical\" is more common in its plural form \"periodicals\". Singular form count = 4, plural form count = 5\n",
      "(Singluar) noun \"export\" is more common in its plural form \"exports\". Singular form count = 7, plural form count = 10\n",
      "(Singluar) noun \"lag\" is more common in its plural form \"lags\". Singular form count = 1, plural form count = 2\n",
      "(Singluar) noun \"plaque\" is more common in its plural form \"plaques\". Singular form count = 1, plural form count = 4\n",
      "(Singluar) noun \"endearment\" is more common in its plural form \"endearments\". Singular form count = 1, plural form count = 2\n",
      "(Singluar) noun \"auditor\" is more common in its plural form \"auditors\". Singular form count = 1, plural form count = 3\n",
      "\n",
      "Found a total of 822 nouns that are more common in their plural form, rather than their singular form. Only showing a few above.\n"
     ]
    }
   ],
   "source": [
    "# Q5.1\n",
    "\n",
    "# Note: foreign word noun tags are excluded from sets below since plural foreign words may not have a '-s' suffix\n",
    "singular_noun_tags = {'NN', 'NN$', 'NN+BEZ', 'NN+HVD', 'NN+HVZ', 'NN+IN', 'NN+MD', 'NN+NN', 'NP', 'NP$', 'NP+BEZ', 'NP+HVZ', 'NP+MD', 'NR', 'NP$', 'NR+MD'}\n",
    "plural_noun_tags = {'NNS', 'NNS$', 'NNS+MD', 'NPS', 'NPS$', 'NRS'}\n",
    "\n",
    "singular_noun_freq_dist = nltk.FreqDist(word for (word, tag) in brown.tagged_words() if tag in singular_noun_tags)\n",
    "all_singular_nouns = set(singular_noun_freq_dist.keys())\n",
    "print(f'Found a total of {len(all_singular_nouns)} singular nouns in the corpus.')\n",
    "\n",
    "all_regular_plural_nouns = {singular_noun + 's' for singular_noun in all_singular_nouns}\n",
    "plural_noun_freq_dist = nltk.FreqDist(word for (word, tag) in brown.tagged_words() if tag in plural_noun_tags and word in all_regular_plural_nouns)\n",
    "\n",
    "total_count = 0\n",
    "for singluar_noun in all_singular_nouns:\n",
    "    plural_noun = singluar_noun + 's'\n",
    "    \n",
    "    singular_noun_count = singular_noun_freq_dist[singluar_noun]\n",
    "    plural_noun_count = plural_noun_freq_dist[plural_noun]\n",
    "    \n",
    "    if plural_noun_count > singular_noun_count:\n",
    "        if total_count <= 10:\n",
    "            print(f'(Singluar) noun \"{singluar_noun}\" is more common in its plural form \"{plural_noun}\". Singular form count = {singular_noun_count}, plural form count = {plural_noun_count}')\n",
    "        total_count += 1\n",
    "\n",
    "print(f'\\nFound a total of {total_count} nouns that are more common in their plural form, rather than their singular form. Only showing a few above.')"
   ]
  },
  {
   "cell_type": "code",
   "execution_count": 38,
   "metadata": {},
   "outputs": [
    {
     "name": "stdout",
     "output_type": "stream",
     "text": [
      "[('NN', 152470), ('IN', 120557), ('AT', 97959), ('JJ', 64028), ('.', 60638), (',', 58156), ('NNS', 55110), ('CC', 37718), ('RB', 36464), ('NP', 34476), ('VB', 33693), ('VBN', 29186), ('VBD', 26167), ('CS', 22143), ('PPS', 18253), ('VBG', 17893), ('PP$', 16872), ('TO', 14918), ('PPSS', 13802), ('CD', 13510)]\n"
     ]
    }
   ],
   "source": [
    "# Q5.2\n",
    "\n",
    "tags_frequency_dist = nltk.FreqDist(tag for (word, tag) in brown.tagged_words())\n",
    "print(tags_frequency_dist.most_common(20))"
   ]
  },
  {
   "cell_type": "markdown",
   "metadata": {},
   "source": [
    "__Q6.__ Generate some statistics for tagged data to answer the following questions: \n",
    "1. What proportion of word types are always assigned the same part-of-speech tag?\n",
    "2. How many words are ambiguous, in the sense that they appear with at least two tags?\n",
    "3. What percentage of word tokens in the Brown Corpus involve these ambiguous words?"
   ]
  },
  {
   "cell_type": "code",
   "execution_count": 78,
   "metadata": {},
   "outputs": [
    {
     "name": "stdout",
     "output_type": "stream",
     "text": [
      "Number of work tokens = 1161192\n",
      "Found a total of 56057 word types / unique words.\n",
      "Found a total of 472 POS tags.\n",
      "\n",
      "% of word types that are always assigned the same part-of-speech tag = 84.42834971546819 %\n",
      "Number of words that are ambiguous (i.e. they appear with at least two tags) = 8729\n",
      "% of word tokens that involve ambiguous words = 78.64892283102192 %\n"
     ]
    }
   ],
   "source": [
    "\n",
    "num_word_tokens = len(brown.words())\n",
    "print(f'Number of work tokens = {num_word_tokens}')\n",
    "\n",
    "all_word_types = {word for word in brown.words()}\n",
    "print(f'Found a total of {len(all_word_types)} word types / unique words.')\n",
    "\n",
    "all_pos_tags = {tag for (word, tag) in brown.tagged_words()}\n",
    "print(f'Found a total of {len(all_pos_tags)} POS tags.\\n')\n",
    "\n",
    "word_types_with_unique_pos_tag_assignment_count = 0\n",
    "num_ambiguous_words = 0\n",
    "ambiguous_word_tokens_count = 0\n",
    "\n",
    "word_type_to_pos_tags_dict = {word_type:set() for word_type in all_word_types}\n",
    "for word_token, tag in brown.tagged_words():\n",
    "    word_type_to_pos_tags_dict[word_token].add(tag)\n",
    "    \n",
    "for word_type, pos_tags_set in word_type_to_pos_tags_dict.items():\n",
    "    if len(pos_tags_set) == 1:\n",
    "        word_types_with_unique_pos_tag_assignment_count += 1\n",
    "    elif len(pos_tags_set) > 1:\n",
    "        num_ambiguous_words += 1\n",
    "\n",
    "for word_token in brown.words():\n",
    "    if len(word_type_to_pos_tags_dict[word_token]) > 1:\n",
    "        ambiguous_word_tokens_count += 1\n",
    "        \n",
    "print(f'% of word types that are always assigned the same part-of-speech tag = {(word_types_with_unique_pos_tag_assignment_count / len(all_word_types)) * 100} %')\n",
    "print(f'Number of words that are ambiguous (i.e. they appear with at least two tags) = {num_ambiguous_words}')\n",
    "print(f'% of word tokens that involve ambiguous words = {(ambiguous_word_tokens_count / num_word_tokens) * 100} %')"
   ]
  },
  {
   "cell_type": "markdown",
   "metadata": {},
   "source": [
    "__Q9.__"
   ]
  },
  {
   "cell_type": "code",
   "execution_count": 135,
   "metadata": {},
   "outputs": [
    {
     "name": "stdout",
     "output_type": "stream",
     "text": [
      "{1: 47328, 2: 7186, 3: 1146, 4: 265, 5: 87, 6: 27, 7: 12, 8: 1, 9: 1, 10: 2}\n",
      "('that', 12)\n",
      "\n",
      "For WPO tag, sentence = He was able to smell a bargain -- and a masterpiece -- a continent away , and the Museum of Modern Art's Alfred Barr said of him : `` I have never mentioned a new artist that Thompson didn't know about '' .\n",
      "\n",
      "For NIL tag, sentence = Thus , as a development program is being launched , commitments and obligations must be entered into in a given year which may exceed by twofold or threefold the expenditures to be made in that year .\n",
      "\n",
      "For DT-NC tag, sentence = He has his own system of shorthand , devised by abbreviations : `` humility '' will be `` humly '' , `` with '' will be `` w '' , and `` that '' will be `` tt '' .\n",
      "\n",
      "For WPO-NC tag, sentence = Thus to has light stress both in that was the conclusion that I came to and in that was the conclusion I came to .\n",
      "\n",
      "For WPS tag, sentence = Regarding Atlanta's new multi-million-dollar airport , the jury recommended `` that when the new management takes charge Jan. 1 the airport be operated in a manner that will eliminate political influences '' .\n",
      "\n",
      "For DT tag, sentence = `` Actually , the abuse of the process may have constituted a contempt of the Criminal court of Cook county , altho vindication of the authority of that court is not the function of this court '' , said Karns , who is a City judge in East St. Louis sitting in Cook County court .\n",
      "\n",
      "For QL tag, sentence = While the city council suggested that the Legislative Council might perform the review , Mr. Notte said that instead he will take up the matter with Atty. Gen. J. Joseph Nugent to get `` the benefit of his views '' .\n",
      "\n",
      "For CS-NC tag, sentence = But when to represents to consciousness in that was the moment that I came to , and similarly in that was the moment I came to , there is much stronger stress on to .\n",
      "\n",
      "For CS-HL tag, sentence = According to the official interpretation of the Charter , a member cannot be penalized by not having the right to vote in the General Assembly for nonpayment of financial obligations to the `` special '' United Nations' budgets , and of course cannot be expelled from the Organization ( which you suggested in your editorial ) , due to the fact that there is no provision in the Charter for expulsion .\n",
      "\n",
      "For WPS-NC tag, sentence = In of all the suggestions that were made , his was the silliest the possessive his represents his suggestion and is stressed .\n",
      "\n",
      "For WPS-HL tag, sentence = Factors that inhibit learning and lead to maladjustment\n",
      "\n",
      "For CS tag, sentence = The Fulton County Grand Jury said Friday an investigation of Atlanta's recent primary election produced `` no evidence '' that any irregularities took place .\n"
     ]
    }
   ],
   "source": [
    "word_type_to_pos_tags_dict = {word_type:set() for word_type in all_word_types}\n",
    "for word_token, tag in brown.tagged_words():\n",
    "    word_type_to_pos_tags_dict[word_token].add(tag)\n",
    "\n",
    "distinct_pos_tag_count_to_distinct_words_count = {i + 1:0 for i in range(10)}\n",
    "word_to_distinct_pos_tags_count = (None, 0)  # word, distinct pos tags count\n",
    "for word, pos_tags_set in word_type_to_pos_tags_dict.items():\n",
    "    num_unique_tags = len(pos_tags_set)\n",
    "    \n",
    "    if num_unique_tags > 0 and num_unique_tags <= 10:\n",
    "        distinct_pos_tag_count_to_distinct_words_count[num_unique_tags] = distinct_pos_tag_count_to_distinct_words_count[num_unique_tags] + 1\n",
    "    \n",
    "    if num_unique_tags > word_to_distinct_pos_tags_count[1]:\n",
    "        word_to_distinct_pos_tags_count = word, num_unique_tags\n",
    "    \n",
    "print(distinct_pos_tag_count_to_distinct_words_count)\n",
    "print(word_to_distinct_pos_tags_count)\n",
    "\n",
    "for tag in word_type_to_pos_tags_dict[word_to_distinct_pos_tags_count[0]]:\n",
    "    for tagged_sentence in brown.tagged_sents():\n",
    "        if (word_to_distinct_pos_tags_count[0], tag) in tagged_sentence:\n",
    "            sentence = ' '.join([word for word, tag in tagged_sentence])\n",
    "            print(f'\\nFor {tag} tag, sentence = {sentence}')\n",
    "            break"
   ]
  }
 ],
 "metadata": {
  "colab": {
   "collapsed_sections": [],
   "name": "hw-3.ipynb",
   "provenance": []
  },
  "kernelspec": {
   "display_name": "Python 3",
   "language": "python",
   "name": "python3"
  },
  "language_info": {
   "codemirror_mode": {
    "name": "ipython",
    "version": 3
   },
   "file_extension": ".py",
   "mimetype": "text/x-python",
   "name": "python",
   "nbconvert_exporter": "python",
   "pygments_lexer": "ipython3",
   "version": "3.9.1"
  },
  "toc": {
   "base_numbering": 1,
   "nav_menu": {},
   "number_sections": false,
   "sideBar": true,
   "skip_h1_title": false,
   "title_cell": "Table of Contents",
   "title_sidebar": "Contents",
   "toc_cell": false,
   "toc_position": {
    "height": "calc(100% - 180px)",
    "left": "10px",
    "top": "150px",
    "width": "384px"
   },
   "toc_section_display": true,
   "toc_window_display": true
  }
 },
 "nbformat": 4,
 "nbformat_minor": 4
}
